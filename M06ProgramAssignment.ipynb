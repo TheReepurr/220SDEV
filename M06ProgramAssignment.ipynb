{
 "cells": [
  {
   "cell_type": "code",
   "execution_count": null,
   "id": "4b7a7b25-482b-4781-98e5-2f62ee015403",
   "metadata": {},
   "outputs": [],
   "source": [
    "from datetime import datetime\n",
    "\n",
    "# 13.1 Write the current date to today.txt\n",
    "current_date = datetime.now().strftime(\"%Y-%m-%d\")\n",
    "with open(\"/mnt/data/today.txt\", \"w\") as file:\n",
    "    file.write(current_date)\n"
   ]
  },
  {
   "cell_type": "code",
   "execution_count": null,
   "id": "70bf22f0-39ff-486f-974b-5a7a84a92849",
   "metadata": {},
   "outputs": [],
   "source": [
    "# 13.2 Read the date from today.txt\n",
    "with open(\"/mnt/data/today.txt\", \"r\") as file:\n",
    "    today_string = file.read()\n",
    "\n",
    "print(today_string)\n"
   ]
  },
  {
   "cell_type": "code",
   "execution_count": null,
   "id": "2f972f16-ada9-4f91-895f-0a7997c046f8",
   "metadata": {},
   "outputs": [],
   "source": [
    "# 13.3 Parse the date from today_string\n",
    "parsed_date = datetime.strptime(today_string, \"%Y-%m-%d\")\n",
    "print(parsed_date)\n"
   ]
  },
  {
   "cell_type": "code",
   "execution_count": null,
   "id": "a75d68ee-5b65-42a5-9558-834e5401fc9f",
   "metadata": {},
   "outputs": [],
   "source": [
    "# 15.1\n",
    "import multiprocessing\n",
    "import time\n",
    "import random\n",
    "from datetime import datetime\n",
    "\n",
    "def worker():\n",
    "    \"\"\"Worker function that waits a random time, prints the current time, and exits.\"\"\"\n",
    "    wait_time = random.uniform(0, 1)\n",
    "    time.sleep(wait_time)\n",
    "    print(f\"Process {multiprocessing.current_process().name} - Time: {datetime.now().strftime('%H:%M:%S.%f')}\")\n",
    "\n",
    "if __name__ == \"__main__\":\n",
    "    # Create and start three separate processes\n",
    "    processes = []\n",
    "    for i in range(3):\n",
    "        process = multiprocessing.Process(target=worker, name=f\"Worker-{i+1}\")\n",
    "        processes.append(process)\n",
    "        process.start()\n",
    "\n",
    "    # Wait for all processes to complete\n",
    "    for process in processes:\n",
    "        process.join()\n"
   ]
  }
 ],
 "metadata": {
  "kernelspec": {
   "display_name": "Python 3 (ipykernel)",
   "language": "python",
   "name": "python3"
  },
  "language_info": {
   "codemirror_mode": {
    "name": "ipython",
    "version": 3
   },
   "file_extension": ".py",
   "mimetype": "text/x-python",
   "name": "python",
   "nbconvert_exporter": "python",
   "pygments_lexer": "ipython3",
   "version": "3.12.7"
  }
 },
 "nbformat": 4,
 "nbformat_minor": 5
}
