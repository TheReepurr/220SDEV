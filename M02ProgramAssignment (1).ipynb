{
 "cells": [
  {
   "cell_type": "code",
   "execution_count": null,
   "id": "632d0d60-23dd-4a84-a4d6-1952ddcae146",
   "metadata": {},
   "outputs": [],
   "source": [
    "# 4.1 Assigning values between 1 and 10\n",
    "secret = 7\n",
    "guess = 5\n",
    "\n",
    "# Conditional tests to compare guess and secret\n",
    "if guess < secret:\n",
    "    print(\"too low\")\n",
    "elif guess > secret:\n",
    "    print(\"too high\")\n",
    "else:\n",
    "    print(\"just right\")\n"
   ]
  },
  {
   "cell_type": "code",
   "execution_count": null,
   "id": "12599a57-07a8-4c6e-8aa8-6c3bf41fa24a",
   "metadata": {},
   "outputs": [],
   "source": [
    "# 4.2 Assign True or False to small and green\n",
    "small = True\n",
    "green = False\n",
    "\n",
    "# Conditional statements to identify the fruit or vegetable\n",
    "if small and green:\n",
    "    print(\"pea\")\n",
    "elif small and not green:\n",
    "    print(\"cherry\")\n",
    "elif not small and green:\n",
    "    print(\"watermelon\")\n",
    "else:\n",
    "    print(\"pumpkin\")\n"
   ]
  },
  {
   "cell_type": "code",
   "execution_count": null,
   "id": "53550083-7733-4db2-b9ee-89d78d9f62f4",
   "metadata": {},
   "outputs": [],
   "source": [
    "# 6.1 List of values\n",
    "values = [3, 2, 1, 0]\n",
    "\n",
    "# For loop to print each value\n",
    "for value in values:\n",
    "    print(value)\n"
   ]
  },
  {
   "cell_type": "code",
   "execution_count": null,
   "id": "9f07b5e1-1564-423f-bb9c-00f57a52b93e",
   "metadata": {},
   "outputs": [],
   "source": [
    "# 6.2 Assign values\n",
    "guess_me = 7\n",
    "number = 1\n",
    "\n",
    "# While loop to compare number with guess_me\n",
    "while True:\n",
    "    if number < guess_me:\n",
    "        print(\"too low\")\n",
    "    elif number == guess_me:\n",
    "        print(\"found it!\")\n",
    "        break\n",
    "    else:\n",
    "        print(\"oops\")\n",
    "        break\n",
    "    number += 1\n"
   ]
  },
  {
   "cell_type": "code",
   "execution_count": null,
   "id": "d2088029-fdfc-4c64-a3fb-05498bf7b036",
   "metadata": {},
   "outputs": [],
   "source": [
    "# 6.3 Assign value\n",
    "guess_me = 5\n",
    "\n",
    "# For loop iterating over range(10)\n",
    "for number in range(10):\n",
    "    if number < guess_me:\n",
    "        print(\"too low\")\n",
    "    elif number == guess_me:\n",
    "        print(\"found it!\")\n",
    "        break\n",
    "    else:\n",
    "        print(\"oops\")\n",
    "        break\n"
   ]
  }
 ],
 "metadata": {
  "kernelspec": {
   "display_name": "Python 3 (ipykernel)",
   "language": "python",
   "name": "python3"
  },
  "language_info": {
   "codemirror_mode": {
    "name": "ipython",
    "version": 3
   },
   "file_extension": ".py",
   "mimetype": "text/x-python",
   "name": "python",
   "nbconvert_exporter": "python",
   "pygments_lexer": "ipython3",
   "version": "3.12.7"
  }
 },
 "nbformat": 4,
 "nbformat_minor": 5
}
