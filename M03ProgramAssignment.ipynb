{
 "cells": [
  {
   "cell_type": "code",
   "execution_count": null,
   "id": "2705be4e-8d29-4155-9e7d-8c6cf18e3369",
   "metadata": {},
   "outputs": [],
   "source": [
    "# 3.1 Calculate seconds in an hour\n",
    "seconds_in_hour = 60 * 60\n",
    "print(seconds_in_hour)\n"
   ]
  },
  {
   "cell_type": "code",
   "execution_count": null,
   "id": "2c39b7a3-e1da-4b81-a46b-20da455ec33e",
   "metadata": {},
   "outputs": [],
   "source": [
    "# 3.2 Assign the calculated value to a variable\n",
    "seconds_per_hour = 3600\n"
   ]
  },
  {
   "cell_type": "code",
   "execution_count": null,
   "id": "1806b9c4-1ba5-4e6b-a7aa-ecb287e46e17",
   "metadata": {},
   "outputs": [],
   "source": [
    "# 3.3 Calculate seconds in a day using seconds_per_hour\n",
    "seconds_in_day = seconds_per_hour * 24\n",
    "print(seconds_in_day)\n"
   ]
  },
  {
   "cell_type": "code",
   "execution_count": null,
   "id": "78b2db6d-edcb-4649-919e-c59e1070812a",
   "metadata": {},
   "outputs": [],
   "source": [
    "# 3.4 Save the result to a variable\n",
    "seconds_per_day = 86400\n"
   ]
  },
  {
   "cell_type": "code",
   "execution_count": null,
   "id": "aa0e9eff-337c-482f-883e-1846f4ad2896",
   "metadata": {},
   "outputs": [],
   "source": [
    "# 3.5 Floating-point division\n",
    "result_floating = seconds_per_day / seconds_per_hour\n",
    "print(result_floating)\n"
   ]
  },
  {
   "cell_type": "code",
   "execution_count": null,
   "id": "84d1fc16-a2ec-419d-b16e-7d1885efc4f9",
   "metadata": {},
   "outputs": [],
   "source": [
    "# 3.6 Integer division\n",
    "result_integer = seconds_per_day // seconds_per_hour\n",
    "print(result_integer)\n"
   ]
  }
 ],
 "metadata": {
  "kernelspec": {
   "display_name": "Python 3 (ipykernel)",
   "language": "python",
   "name": "python3"
  },
  "language_info": {
   "codemirror_mode": {
    "name": "ipython",
    "version": 3
   },
   "file_extension": ".py",
   "mimetype": "text/x-python",
   "name": "python",
   "nbconvert_exporter": "python",
   "pygments_lexer": "ipython3",
   "version": "3.12.7"
  }
 },
 "nbformat": 4,
 "nbformat_minor": 5
}
