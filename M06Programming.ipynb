{
 "cells": [
  {
   "cell_type": "code",
   "execution_count": null,
   "id": "527417cf-72b0-42f9-884b-b7e29c7e67c5",
   "metadata": {},
   "outputs": [],
   "source": [
    "from datetime import date\n",
    "\n",
    "# 13.1 Get the current date\n",
    "current_date = date.today()\n",
    "\n",
    "# Write the current date as a string to today.txt\n",
    "with open('today.txt', 'w') as file:\n",
    "    file.write(current_date.isoformat())\n"
   ]
  },
  {
   "cell_type": "code",
   "execution_count": null,
   "id": "0d13450e-a690-4092-9ce6-c565311ce9d1",
   "metadata": {},
   "outputs": [],
   "source": [
    "# 13.2 Read the content of today.txt into a string\n",
    "with open('today.txt', 'r') as file:\n",
    "    today_string = file.read()\n",
    "\n",
    "# Print the string to verify\n",
    "print(today_string)\n"
   ]
  },
  {
   "cell_type": "code",
   "execution_count": null,
   "id": "ebb2c62b-90aa-4563-9de7-c54a95a9e472",
   "metadata": {},
   "outputs": [],
   "source": [
    "from datetime import datetime\n",
    "\n",
    "# Unit 13.3: Parse the date from today_string\n",
    "parsed_date = datetime.strptime(today_string, '%Y-%m-%d').date()\n",
    "print(f\"Unit 13.3: Parsed date from today_string: {parsed_date}\")\n"
   ]
  },
  {
   "cell_type": "code",
   "execution_count": null,
   "id": "1fe7e0c3-fbc0-4898-b3ff-b014fb394e2f",
   "metadata": {},
   "outputs": [],
   "source": []
  }
 ],
 "metadata": {
  "kernelspec": {
   "display_name": "Python 3 (ipykernel)",
   "language": "python",
   "name": "python3"
  },
  "language_info": {
   "codemirror_mode": {
    "name": "ipython",
    "version": 3
   },
   "file_extension": ".py",
   "mimetype": "text/x-python",
   "name": "python",
   "nbconvert_exporter": "python",
   "pygments_lexer": "ipython3",
   "version": "3.12.7"
  }
 },
 "nbformat": 4,
 "nbformat_minor": 5
}
