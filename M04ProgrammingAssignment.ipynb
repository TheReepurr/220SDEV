{
 "cells": [
  {
   "cell_type": "code",
   "execution_count": null,
   "id": "426de059-806f-4c10-a5ca-7f359c320e7d",
   "metadata": {},
   "outputs": [],
   "source": [
    "# zoo.py\n",
    "\n",
    "def hours():\n",
    "    print(\"Open 9-5 daily\")\n"
   ]
  },
  {
   "cell_type": "code",
   "execution_count": null,
   "id": "cbff134d-1023-4978-89d5-35c1d4740fa0",
   "metadata": {},
   "outputs": [],
   "source": [
    ">>> import zoo as menagerie\n",
    ">>> menagerie.hours()\n",
    "Open 9-5 daily\n"
   ]
  },
  {
   "cell_type": "code",
   "execution_count": null,
   "id": "cb0924d2-078f-4a2a-a012-efc03d0276af",
   "metadata": {},
   "outputs": [],
   "source": [
    "from sqlalchemy import create_engine, MetaData, Table, select\n",
    "\n",
    "# Connect to the SQLite database\n",
    "engine = create_engine('sqlite:///books.db')\n",
    "connection = engine.connect()\n",
    "\n",
    "# Reflect the metadata of the database\n",
    "metadata = MetaData()\n",
    "book_table = Table('book', metadata, autoload_with=engine)\n",
    "\n",
    "# Query to select and order titles alphabetically\n",
    "query = select(book_table.c.title).order_by(book_table.c.title)\n",
    "\n",
    "# Execute the query and fetch results\n",
    "result = connection.execute(query)\n",
    "\n",
    "# Print the titles\n",
    "print(\"Book Titles in Alphabetical Order:\")\n",
    "for row in result:\n",
    "    print(row.title)\n",
    "\n",
    "# Close the connection\n",
    "connection.close()\n"
   ]
  }
 ],
 "metadata": {
  "kernelspec": {
   "display_name": "Python 3 (ipykernel)",
   "language": "python",
   "name": "python3"
  },
  "language_info": {
   "codemirror_mode": {
    "name": "ipython",
    "version": 3
   },
   "file_extension": ".py",
   "mimetype": "text/x-python",
   "name": "python",
   "nbconvert_exporter": "python",
   "pygments_lexer": "ipython3",
   "version": "3.12.7"
  }
 },
 "nbformat": 4,
 "nbformat_minor": 5
}
